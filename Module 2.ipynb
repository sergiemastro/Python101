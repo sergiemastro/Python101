{
 "cells": [
  {
   "cell_type": "markdown",
   "id": "fb3e36b7",
   "metadata": {
    "id": "fb3e36b7"
   },
   "source": [
    "# Module 2\n",
    "### This week, we will cover the following topics:\n",
    "\n",
    "* Data Types and Data Structures\n",
    "* Python Syntax\n",
    "* Variables in Python\n",
    "* Strings\n",
    "* Numerical Data Types and Expressions\n",
    "* Python Lists, Tuples, Dictionaries & Setss & Sets"
   ]
  },
  {
   "cell_type": "markdown",
   "id": "d548fc6d-ff2e-4ebb-9431-d19d35976d1a",
   "metadata": {
    "id": "d548fc6d-ff2e-4ebb-9431-d19d35976d1a"
   },
   "source": [
    "### Strings"
   ]
  },
  {
   "cell_type": "code",
   "execution_count": null,
   "id": "e6e6b1e4-fb8b-4466-8f47-9eaa43085595",
   "metadata": {
    "colab": {
     "base_uri": "https://localhost:8080/"
    },
    "id": "e6e6b1e4-fb8b-4466-8f47-9eaa43085595",
    "outputId": "102e85e7-1eb0-4b1c-bba0-066ee7bdb13e"
   },
   "outputs": [
    {
     "name": "stdout",
     "output_type": "stream",
     "text": [
      "Hello World\n"
     ]
    }
   ],
   "source": [
    "# Concatenation\n",
    "var1 = 'Hello'  # String 1\n",
    "var2 = 'World'  # String 2\n",
    "var3 = var1 + ' ' + var2  # Concatenate two string as String 3\n",
    "print(var3)"
   ]
  },
  {
   "cell_type": "code",
   "execution_count": null,
   "id": "4a17559e-b915-4529-8a08-e19944debc2f",
   "metadata": {
    "colab": {
     "base_uri": "https://localhost:8080/"
    },
    "id": "4a17559e-b915-4529-8a08-e19944debc2f",
    "outputId": "5f609143-e40a-4513-adab-645eca347166"
   },
   "outputs": [
    {
     "data": {
      "text/plain": [
       "6"
      ]
     },
     "execution_count": 2,
     "metadata": {},
     "output_type": "execute_result"
    }
   ],
   "source": [
    "var1 = 'Python'\n",
    "len(var1)"
   ]
  },
  {
   "cell_type": "code",
   "execution_count": null,
   "id": "b971c237-56c2-4fe4-8498-152eaedb1e48",
   "metadata": {
    "colab": {
     "base_uri": "https://localhost:8080/"
    },
    "id": "b971c237-56c2-4fe4-8498-152eaedb1e48",
    "outputId": "7e45b732-46e8-4c65-9851-623a97098d91"
   },
   "outputs": [
    {
     "name": "stdout",
     "output_type": "stream",
     "text": [
      "Name: Alice, Age: 30\n"
     ]
    }
   ],
   "source": [
    "name = \"Alice\"\n",
    "age = 30\n",
    "print(\"Name: {}, Age: {}\".format(name, age))"
   ]
  },
  {
   "cell_type": "code",
   "execution_count": null,
   "id": "b63c8eba-6d16-4aff-b3bf-91e69709f651",
   "metadata": {
    "colab": {
     "base_uri": "https://localhost:8080/"
    },
    "id": "b63c8eba-6d16-4aff-b3bf-91e69709f651",
    "outputId": "556c7370-ffd5-4adf-ef16-12920ca2420b"
   },
   "outputs": [
    {
     "name": "stdout",
     "output_type": "stream",
     "text": [
      "Formatted number: 1,234.57\n"
     ]
    }
   ],
   "source": [
    "number = 1234.56789\n",
    "\n",
    "# Using str.format()\n",
    "print(\"Formatted number: {:,.2f}\".format(number))"
   ]
  },
  {
   "cell_type": "code",
   "execution_count": null,
   "id": "fda3a00c-b81d-4a8c-b650-64ae1a3dc41f",
   "metadata": {
    "colab": {
     "base_uri": "https://localhost:8080/"
    },
    "id": "fda3a00c-b81d-4a8c-b650-64ae1a3dc41f",
    "outputId": "ceaaf635-7ce8-4642-8a91-259d8531d6da"
   },
   "outputs": [
    {
     "name": "stdout",
     "output_type": "stream",
     "text": [
      "Name: Alice, Age:  30\n"
     ]
    }
   ],
   "source": [
    "name = \"Alice\"\n",
    "age = 30\n",
    "\n",
    "# Using str.format()\n",
    "print(\"Name: {:<3}, Age: {:>3}\".format(name, age))"
   ]
  },
  {
   "cell_type": "markdown",
   "id": "658456e9-6c3a-465d-86c6-9950b08682ab",
   "metadata": {
    "id": "658456e9-6c3a-465d-86c6-9950b08682ab"
   },
   "source": [
    "### Operations"
   ]
  },
  {
   "cell_type": "code",
   "execution_count": null,
   "id": "7fdeea13-13d6-4210-b9cf-95f401c9e42c",
   "metadata": {
    "colab": {
     "base_uri": "https://localhost:8080/"
    },
    "id": "7fdeea13-13d6-4210-b9cf-95f401c9e42c",
    "outputId": "eee00377-d27d-4ca3-f898-6bb072a7c58d"
   },
   "outputs": [
    {
     "name": "stdout",
     "output_type": "stream",
     "text": [
      "13\n",
      "7\n",
      "30\n",
      "3.3333333333333335\n",
      "1\n",
      "1000\n",
      "3\n"
     ]
    }
   ],
   "source": [
    "a = 10\n",
    "b = 3\n",
    "\n",
    "# Addition\n",
    "print(a + b)  # Output: 13\n",
    "# Subtraction\n",
    "print(a - b)  # Output: 7\n",
    "# Multiplication\n",
    "print(a * b)  # Output: 30\n",
    "# Division\n",
    "print(a / b)  # Output: 3.3333333333333335\n",
    "# Modulus\n",
    "print(a % b)  # Output: 1\n",
    "# Exponentiation\n",
    "print(a ** b) # Output: 1000\n",
    "# Floor Division\n",
    "print(a // b) # Output: 3"
   ]
  },
  {
   "cell_type": "code",
   "execution_count": null,
   "id": "407c79ca-776b-4c67-9ef7-49b5b80471c1",
   "metadata": {
    "colab": {
     "base_uri": "https://localhost:8080/"
    },
    "id": "407c79ca-776b-4c67-9ef7-49b5b80471c1",
    "outputId": "0bd81623-5c85-4de2-f4bc-f8891bdefc21"
   },
   "outputs": [
    {
     "name": "stdout",
     "output_type": "stream",
     "text": [
      "False\n",
      "True\n",
      "True\n",
      "True\n",
      "7\n",
      "21\n",
      "1\n"
     ]
    }
   ],
   "source": [
    "# Relational operators\n",
    "a = 10\n",
    "b = 20\n",
    "\n",
    "print(a == b)\n",
    "print(a != b)\n",
    "print(a < b)\n",
    "print(a <= b)\n",
    "\n",
    "# Assignment operators\n",
    "c = 5\n",
    "c += 2  # c = c + 2\n",
    "print(c)  # Output: 7\n",
    "\n",
    "c *= 3  # c = c * 3\n",
    "print(c)  # Output: 21\n",
    "\n",
    "c %= 4  # c = c % 4\n",
    "print(c)  # Output: 1"
   ]
  },
  {
   "cell_type": "code",
   "execution_count": null,
   "id": "a6732d00-c108-4123-8148-14170ce7db58",
   "metadata": {
    "colab": {
     "base_uri": "https://localhost:8080/"
    },
    "id": "a6732d00-c108-4123-8148-14170ce7db58",
    "outputId": "2f40b048-0113-486c-aa97-ce0839839cc0"
   },
   "outputs": [
    {
     "name": "stdout",
     "output_type": "stream",
     "text": [
      "13.14\n",
      "6.140000000000001\n",
      "-5.0\n",
      "0.314\n"
     ]
    }
   ],
   "source": [
    "# Numbers\n",
    "# Integers\n",
    "x = 10\n",
    "y = -3\n",
    "z = 0\n",
    "\n",
    "# Float\n",
    "a = 3.14\n",
    "b = -0.5\n",
    "\n",
    "# Addition\n",
    "print(x + a)  # Integer + Float\n",
    "\n",
    "# Subtraction\n",
    "print(a - y)  # Float – Integer\n",
    "\n",
    "# Multiplication\n",
    "print(x * b)  # Integer * Float\n",
    "\n",
    "# Division\n",
    "print(a / x)  # Float / Integer"
   ]
  },
  {
   "cell_type": "markdown",
   "id": "c2d9ba97",
   "metadata": {
    "id": "c2d9ba97"
   },
   "source": [
    "### Lists"
   ]
  },
  {
   "cell_type": "code",
   "execution_count": null,
   "id": "4966dbdb",
   "metadata": {
    "id": "4966dbdb"
   },
   "outputs": [],
   "source": [
    "# Initial list\n",
    "my_list = [3, 1, 4, 1, 5, 9]"
   ]
  },
  {
   "cell_type": "code",
   "execution_count": null,
   "id": "198dd6ec-17fb-4f98-9740-caa86a38bee3",
   "metadata": {
    "colab": {
     "base_uri": "https://localhost:8080/"
    },
    "id": "198dd6ec-17fb-4f98-9740-caa86a38bee3",
    "outputId": "2700427e-5719-4b8b-a357-37ecbe74cb8f"
   },
   "outputs": [
    {
     "name": "stdout",
     "output_type": "stream",
     "text": [
      "After appending 2: [3, 1, 4, 1, 5, 9, '2']\n"
     ]
    }
   ],
   "source": [
    "# Append an element to the list\n",
    "my_list.append('2')\n",
    "print(\"After appending 2:\", my_list)"
   ]
  },
  {
   "cell_type": "code",
   "execution_count": null,
   "id": "420eaeae-5b44-4c57-a116-a34ff240d3fe",
   "metadata": {
    "colab": {
     "base_uri": "https://localhost:8080/"
    },
    "id": "420eaeae-5b44-4c57-a116-a34ff240d3fe",
    "outputId": "e4c271f3-2fc7-4994-d2c0-cf2cc279d8e3"
   },
   "outputs": [
    {
     "name": "stdout",
     "output_type": "stream",
     "text": [
      "After updating second element to 6: [3, 6, 4, 1, 5, 9, '2']\n"
     ]
    }
   ],
   "source": [
    "# Update the second element of the list\n",
    "my_list[1] = 6\n",
    "print(\"After updating second element to 6:\", my_list)"
   ]
  },
  {
   "cell_type": "code",
   "execution_count": null,
   "id": "a4b67dfa-4a0e-4549-82cb-5ca4ea764d55",
   "metadata": {
    "colab": {
     "base_uri": "https://localhost:8080/"
    },
    "id": "a4b67dfa-4a0e-4549-82cb-5ca4ea764d55",
    "outputId": "95bdde84-4ef7-4f2a-9c39-2177351d6e29"
   },
   "outputs": [
    {
     "name": "stdout",
     "output_type": "stream",
     "text": [
      "After removing the last element: [3, 6, 4, 1, 5, 9]\n"
     ]
    }
   ],
   "source": [
    "# Remove the last element from the list\n",
    "my_list.pop()\n",
    "print(\"After removing the last element:\", my_list)"
   ]
  },
  {
   "cell_type": "markdown",
   "id": "c50f024a-e271-42d1-90ba-eee963943fe1",
   "metadata": {
    "id": "c50f024a-e271-42d1-90ba-eee963943fe1"
   },
   "source": [
    "##### Examples"
   ]
  },
  {
   "cell_type": "code",
   "execution_count": null,
   "id": "0d93d5bb-cf4c-433e-ac85-e04d384421c7",
   "metadata": {
    "id": "0d93d5bb-cf4c-433e-ac85-e04d384421c7"
   },
   "outputs": [],
   "source": [
    "# List of air quality readings (AQI - Air Quality Index)\n",
    "aqi_readings = [45, 50, 55, 60, 70, 65, 80, 75, 85, 90]"
   ]
  },
  {
   "cell_type": "code",
   "execution_count": null,
   "id": "d685fd3e-8acf-4507-9c8a-a18e49b04598",
   "metadata": {
    "colab": {
     "base_uri": "https://localhost:8080/"
    },
    "id": "d685fd3e-8acf-4507-9c8a-a18e49b04598",
    "outputId": "50b09db3-4315-4900-e013-abf10ca1b063"
   },
   "outputs": [
    {
     "name": "stdout",
     "output_type": "stream",
     "text": [
      "Average AQI: 67.5\n"
     ]
    }
   ],
   "source": [
    "# Average AQI\n",
    "average_aqi = sum(aqi_readings) / len(aqi_readings)\n",
    "print(\"Average AQI:\", average_aqi)"
   ]
  },
  {
   "cell_type": "markdown",
   "id": "3289cbc0-5fd1-4dae-adb6-612e161055d7",
   "metadata": {
    "id": "3289cbc0-5fd1-4dae-adb6-612e161055d7"
   },
   "source": [
    "Let's analyze urban traffic data to identify peak traffic hours. This can help city planners optimize traffic signals and reduce congestion:"
   ]
  },
  {
   "cell_type": "code",
   "execution_count": null,
   "id": "b06c148c-f757-40b1-aadb-8b9272d5ec17",
   "metadata": {
    "colab": {
     "base_uri": "https://localhost:8080/"
    },
    "id": "b06c148c-f757-40b1-aadb-8b9272d5ec17",
    "outputId": "106f1e34-28e5-4f60-ef56-c4237a43466a"
   },
   "outputs": [
    {
     "name": "stdout",
     "output_type": "stream",
     "text": [
      "Average traffic per hour: 176.04166666666666\n",
      "Peak traffic hour: 23 hs, with 290 vehicles\n"
     ]
    }
   ],
   "source": [
    "# Traffic data for one day (number of vehicles per hour)\n",
    "traffic_data = [120, 130, 100, 95, 110, 90, 85, 95, 100, 150, 160, 170, 180, 190, 200, 210, 220, 230, 240,\n",
    "250, 260, 270, 280, 290]\n",
    "\n",
    "# Calculate the average number of vehicles per hour\n",
    "average_traffic = sum(traffic_data) / len(traffic_data)\n",
    "print(\"Average traffic per hour:\", average_traffic)\n",
    "\n",
    "# Identify peak traffic hour\n",
    "peak_traffic = max(traffic_data)\n",
    "peak_hour = traffic_data.index(peak_traffic)\n",
    "print(\"Peak traffic hour: {} hs, with {} vehicles\".format(peak_hour, peak_traffic))"
   ]
  },
  {
   "cell_type": "markdown",
   "id": "6aa281cc",
   "metadata": {
    "id": "6aa281cc"
   },
   "source": [
    "### Tuples"
   ]
  },
  {
   "cell_type": "code",
   "execution_count": null,
   "id": "4b66f552",
   "metadata": {
    "id": "4b66f552"
   },
   "outputs": [],
   "source": [
    "# Initial tuple\n",
    "my_tuple = (1, 'apple', 3.5)"
   ]
  },
  {
   "cell_type": "code",
   "execution_count": null,
   "id": "9fbb13ce-2221-4ae6-8829-a5451ae2db49",
   "metadata": {
    "colab": {
     "base_uri": "https://localhost:8080/"
    },
    "id": "9fbb13ce-2221-4ae6-8829-a5451ae2db49",
    "outputId": "858aada0-00d5-46c6-ad5f-b7e9ce2c7c49"
   },
   "outputs": [
    {
     "name": "stdout",
     "output_type": "stream",
     "text": [
      "Second element: apple\n"
     ]
    }
   ],
   "source": [
    "# Access the second element of the tuple\n",
    "print(\"Second element:\", my_tuple[1])"
   ]
  },
  {
   "cell_type": "code",
   "execution_count": null,
   "id": "ecf4fadc-5a5c-428f-80e4-f48da5e81108",
   "metadata": {
    "colab": {
     "base_uri": "https://localhost:8080/"
    },
    "id": "ecf4fadc-5a5c-428f-80e4-f48da5e81108",
    "outputId": "2796aefa-c3be-4d15-f74a-91f0e1a332ad"
   },
   "outputs": [
    {
     "name": "stdout",
     "output_type": "stream",
     "text": [
      "After concatenation: (1, 'apple', 3.5, 7, 'banana')\n"
     ]
    }
   ],
   "source": [
    "# Concatenate the tuple with another tuple\n",
    "new_tuple = my_tuple + (7, 'banana')\n",
    "print(\"After concatenation:\", new_tuple)"
   ]
  },
  {
   "cell_type": "code",
   "execution_count": null,
   "id": "c50b2411-6122-407c-afa7-488ab99a491c",
   "metadata": {
    "colab": {
     "base_uri": "https://localhost:8080/"
    },
    "id": "c50b2411-6122-407c-afa7-488ab99a491c",
    "outputId": "f025fb72-0e0c-4c3b-976d-823471684321"
   },
   "outputs": [
    {
     "name": "stdout",
     "output_type": "stream",
     "text": [
      "'apple' in tuple: True\n"
     ]
    }
   ],
   "source": [
    "# Check if an element exists in the tuple\n",
    "exists = 'apple' in my_tuple\n",
    "print(\"'apple' in tuple:\", exists)"
   ]
  },
  {
   "cell_type": "code",
   "execution_count": null,
   "id": "60df1bc2-5a8c-4079-a6a9-52f3f1671f42",
   "metadata": {
    "colab": {
     "base_uri": "https://localhost:8080/"
    },
    "id": "60df1bc2-5a8c-4079-a6a9-52f3f1671f42",
    "outputId": "133eb1cf-f55c-44a4-a3e3-2812e64ecb80"
   },
   "outputs": [
    {
     "name": "stdout",
     "output_type": "stream",
     "text": [
      "Final tuple: (1, 'apple', 3.5)\n"
     ]
    }
   ],
   "source": [
    "# Print the final tuple\n",
    "print(\"Final tuple:\", my_tuple)"
   ]
  },
  {
   "cell_type": "markdown",
   "id": "e08f7ed6-034c-40fd-9ac4-4d657c319a87",
   "metadata": {
    "id": "e08f7ed6-034c-40fd-9ac4-4d657c319a87"
   },
   "source": [
    "##### Examples"
   ]
  },
  {
   "cell_type": "code",
   "execution_count": null,
   "id": "a972f704-e75d-4f83-90cf-4d9f583488ca",
   "metadata": {
    "id": "a972f704-e75d-4f83-90cf-4d9f583488ca"
   },
   "outputs": [],
   "source": [
    "# Initial tuple\n",
    "another_tuple = ('string', 4.4, 3)"
   ]
  },
  {
   "cell_type": "code",
   "execution_count": null,
   "id": "9b7e8ad0-27b2-424c-91e2-36ea5e38c47c",
   "metadata": {
    "colab": {
     "base_uri": "https://localhost:8080/"
    },
    "id": "9b7e8ad0-27b2-424c-91e2-36ea5e38c47c",
    "outputId": "de0e92d4-c007-4ac3-8ff4-6af4b49118aa"
   },
   "outputs": [
    {
     "name": "stdout",
     "output_type": "stream",
     "text": [
      "fist element: string\n"
     ]
    }
   ],
   "source": [
    "# Access the first element of the tuple\n",
    "print(\"fist element:\", another_tuple[0])"
   ]
  },
  {
   "cell_type": "code",
   "execution_count": null,
   "id": "b417cca3-6207-41fc-ad95-8f059f0effa7",
   "metadata": {
    "colab": {
     "base_uri": "https://localhost:8080/",
     "height": 158
    },
    "id": "b417cca3-6207-41fc-ad95-8f059f0effa7",
    "outputId": "d8a0753f-a105-454f-d6b8-42a9af8ae386"
   },
   "outputs": [
    {
     "ename": "TypeError",
     "evalue": "'tuple' object does not support item assignment",
     "output_type": "error",
     "traceback": [
      "\u001b[0;31m---------------------------------------------------------------------------\u001b[0m",
      "\u001b[0;31mTypeError\u001b[0m                                 Traceback (most recent call last)",
      "\u001b[0;32m<ipython-input-25-164a102b0d57>\u001b[0m in \u001b[0;36m<cell line: 2>\u001b[0;34m()\u001b[0m\n\u001b[1;32m      1\u001b[0m \u001b[0;31m# Update the first element of the tuple\u001b[0m\u001b[0;34m\u001b[0m\u001b[0;34m\u001b[0m\u001b[0m\n\u001b[0;32m----> 2\u001b[0;31m \u001b[0manother_tuple\u001b[0m\u001b[0;34m[\u001b[0m\u001b[0;36m0\u001b[0m\u001b[0;34m]\u001b[0m \u001b[0;34m=\u001b[0m \u001b[0;34m\"New\"\u001b[0m\u001b[0;34m\u001b[0m\u001b[0;34m\u001b[0m\u001b[0m\n\u001b[0m",
      "\u001b[0;31mTypeError\u001b[0m: 'tuple' object does not support item assignment"
     ]
    }
   ],
   "source": [
    "# Update the first element of the tuple\n",
    "another_tuple[0] = \"New\""
   ]
  },
  {
   "cell_type": "markdown",
   "id": "579716d8",
   "metadata": {
    "id": "579716d8"
   },
   "source": [
    "### Dictionaries"
   ]
  },
  {
   "cell_type": "code",
   "execution_count": null,
   "id": "0061052e",
   "metadata": {
    "id": "0061052e"
   },
   "outputs": [],
   "source": [
    "# Initial dictionary\n",
    "my_dict = {'a': 1, 'b': 2, 'c': 3}"
   ]
  },
  {
   "cell_type": "code",
   "execution_count": null,
   "id": "38352083-b0de-45b1-ab9a-9c25b782322d",
   "metadata": {
    "colab": {
     "base_uri": "https://localhost:8080/"
    },
    "id": "38352083-b0de-45b1-ab9a-9c25b782322d",
    "outputId": "9ee18106-ac53-4cff-901e-511e04ff2585"
   },
   "outputs": [
    {
     "name": "stdout",
     "output_type": "stream",
     "text": [
      "After adding new key-value pair: {'a': 1, 'b': 2, 'c': 3, 'd': 4}\n"
     ]
    }
   ],
   "source": [
    "# Add a new key-value pair to the dictionary\n",
    "my_dict['d'] = 4\n",
    "print(\"After adding new key-value pair:\", my_dict)"
   ]
  },
  {
   "cell_type": "code",
   "execution_count": null,
   "id": "1288894c",
   "metadata": {
    "colab": {
     "base_uri": "https://localhost:8080/"
    },
    "id": "1288894c",
    "outputId": "22877263-f5eb-4aa4-ce79-5c64f842b131"
   },
   "outputs": [
    {
     "name": "stdout",
     "output_type": "stream",
     "text": [
      "After updating value of key 'b': {'a': 1, 'b': 5, 'c': 3, 'd': 4}\n"
     ]
    }
   ],
   "source": [
    "# Update the value of an existing key\n",
    "my_dict['b'] = 5\n",
    "print(\"After updating value of key 'b':\", my_dict)"
   ]
  },
  {
   "cell_type": "code",
   "execution_count": null,
   "id": "748e145f-cacd-4ffc-b7dc-8c1eeffb940b",
   "metadata": {
    "colab": {
     "base_uri": "https://localhost:8080/"
    },
    "id": "748e145f-cacd-4ffc-b7dc-8c1eeffb940b",
    "outputId": "1afa547e-6eef-4e34-ea27-40750d668704"
   },
   "outputs": [
    {
     "name": "stdout",
     "output_type": "stream",
     "text": [
      "After removing key 'a': {'b': 5, 'c': 3, 'd': 4}\n"
     ]
    }
   ],
   "source": [
    "# Remove a key-value pair from the dictionary\n",
    "del my_dict['a']\n",
    "print(\"After removing key 'a':\", my_dict)"
   ]
  },
  {
   "cell_type": "markdown",
   "id": "ecab26fd-08bd-42f6-a37f-5bde9bbb66cc",
   "metadata": {
    "id": "ecab26fd-08bd-42f6-a37f-5bde9bbb66cc"
   },
   "source": [
    "##### Examples"
   ]
  },
  {
   "cell_type": "code",
   "execution_count": null,
   "id": "c4f60a29-4e33-4c1c-a6e7-ad75bd5a0ce8",
   "metadata": {
    "colab": {
     "base_uri": "https://localhost:8080/"
    },
    "id": "c4f60a29-4e33-4c1c-a6e7-ad75bd5a0ce8",
    "outputId": "a2853100-a5be-4bdf-d9d6-e80ad9018537"
   },
   "outputs": [
    {
     "name": "stdout",
     "output_type": "stream",
     "text": [
      "{'location1': 45, 'location2': 50, 'location3': 55}\n"
     ]
    }
   ],
   "source": [
    "# Dictionary of sensor locations and their respective AQI\n",
    "sensor_data = {'location1': 45, 'location2': 50, 'location3': 55}\n",
    "print(sensor_data)"
   ]
  },
  {
   "cell_type": "code",
   "execution_count": null,
   "id": "b2f62c5d-0e63-4d92-9bde-d2b34e310f2f",
   "metadata": {
    "colab": {
     "base_uri": "https://localhost:8080/"
    },
    "id": "b2f62c5d-0e63-4d92-9bde-d2b34e310f2f",
    "outputId": "5d40bfe3-3498-4fe0-94fd-2b2a595bb982"
   },
   "outputs": [
    {
     "name": "stdout",
     "output_type": "stream",
     "text": [
      "Updated AQI for location1: 48\n"
     ]
    }
   ],
   "source": [
    "# Update AQI for location1\n",
    "sensor_data['location1'] = 48\n",
    "print(\"Updated AQI for location1:\", sensor_data['location1'])"
   ]
  },
  {
   "cell_type": "markdown",
   "id": "e444d90c-7ca9-4e8a-a633-8b688aed2fb6",
   "metadata": {
    "id": "e444d90c-7ca9-4e8a-a633-8b688aed2fb6"
   },
   "source": [
    "### Sets"
   ]
  },
  {
   "cell_type": "code",
   "execution_count": null,
   "id": "3eead361-37df-4790-904e-952bcd4be6ad",
   "metadata": {
    "colab": {
     "base_uri": "https://localhost:8080/"
    },
    "id": "3eead361-37df-4790-904e-952bcd4be6ad",
    "outputId": "db2289e8-cbc1-4cc6-d118-45ed0e509c00"
   },
   "outputs": [
    {
     "name": "stdout",
     "output_type": "stream",
     "text": [
      "Printing my_set1: {1, 2, 3}\n"
     ]
    }
   ],
   "source": [
    "# Create a print a set\n",
    "my_set1 = {1,2,3}\n",
    "print(\"Printing my_set1:\", my_set1)"
   ]
  },
  {
   "cell_type": "code",
   "execution_count": null,
   "id": "a088f758-e7b4-47fd-bc1c-302b707ffbc5",
   "metadata": {
    "colab": {
     "base_uri": "https://localhost:8080/"
    },
    "id": "a088f758-e7b4-47fd-bc1c-302b707ffbc5",
    "outputId": "aa06a2b8-7ce2-4807-fef3-c2f5385e6e83"
   },
   "outputs": [
    {
     "name": "stdout",
     "output_type": "stream",
     "text": [
      "Printing my_set2: {1, 2, 3}\n"
     ]
    }
   ],
   "source": [
    "# Create a print a set\n",
    "my_set2 = {1,2,3,1,2,1,2,3,3,3,3,2,2,2,1,1,2}\n",
    "print(\"Printing my_set2:\", my_set2)"
   ]
  },
  {
   "cell_type": "markdown",
   "id": "5d9c98f1-74c0-4d9e-93e2-435891313fb3",
   "metadata": {
    "id": "5d9c98f1-74c0-4d9e-93e2-435891313fb3"
   },
   "source": [
    "## list comprehension"
   ]
  },
  {
   "cell_type": "code",
   "execution_count": null,
   "id": "4b5cc2ae-05e5-4d1b-acd5-bcb7d79ff70f",
   "metadata": {
    "id": "4b5cc2ae-05e5-4d1b-acd5-bcb7d79ff70f"
   },
   "outputs": [],
   "source": [
    "x = [1,2,3,4]"
   ]
  },
  {
   "cell_type": "code",
   "execution_count": null,
   "id": "5d9fd384-61ca-49b7-8e95-41e02d9747ff",
   "metadata": {
    "colab": {
     "base_uri": "https://localhost:8080/"
    },
    "id": "5d9fd384-61ca-49b7-8e95-41e02d9747ff",
    "outputId": "efc5d9e1-1579-482d-bc5c-40533b45ce7d"
   },
   "outputs": [
    {
     "name": "stdout",
     "output_type": "stream",
     "text": [
      "[1, 4, 9, 16]\n"
     ]
    }
   ],
   "source": [
    "out = []\n",
    "for item in x:\n",
    "    out.append(item**2)\n",
    "print(out)"
   ]
  },
  {
   "cell_type": "code",
   "execution_count": null,
   "id": "e2d221a7-a853-4523-a9ef-4aa4221d7933",
   "metadata": {
    "colab": {
     "base_uri": "https://localhost:8080/"
    },
    "id": "e2d221a7-a853-4523-a9ef-4aa4221d7933",
    "outputId": "aceaea83-b68f-45c2-f393-62791c827e74"
   },
   "outputs": [
    {
     "data": {
      "text/plain": [
       "[1, 4, 9, 16]"
      ]
     },
     "execution_count": 36,
     "metadata": {},
     "output_type": "execute_result"
    }
   ],
   "source": [
    "[item**2 for item in x]"
   ]
  }
 ],
 "metadata": {
  "colab": {
   "provenance": []
  },
  "kernelspec": {
   "display_name": "Python 3 (ipykernel)",
   "language": "python",
   "name": "python3"
  },
  "language_info": {
   "codemirror_mode": {
    "name": "ipython",
    "version": 3
   },
   "file_extension": ".py",
   "mimetype": "text/x-python",
   "name": "python",
   "nbconvert_exporter": "python",
   "pygments_lexer": "ipython3",
   "version": "3.12.4"
  }
 },
 "nbformat": 4,
 "nbformat_minor": 5
}
