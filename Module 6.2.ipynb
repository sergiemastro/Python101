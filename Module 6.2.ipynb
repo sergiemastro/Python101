{
 "cells": [
  {
   "cell_type": "markdown",
   "id": "665fedbe",
   "metadata": {},
   "source": [
    "# Module 6.2: Data Viz"
   ]
  },
  {
   "cell_type": "markdown",
   "id": "6ae5cf49",
   "metadata": {},
   "source": [
    "## Seaborn\n",
    "\n",
    "Check the official documentation at https://seaborn.pydata.org/"
   ]
  },
  {
   "cell_type": "markdown",
   "id": "83affabe",
   "metadata": {},
   "source": [
    "### Distribution Plots\n",
    "\n",
    "Let's discuss some plots that allow us to visualize the distribution of a data set. These plots are:\n",
    "\n",
    "* distplot\n",
    "* jointplot\n",
    "* pairplot\n",
    "* rugplot\n",
    "* kdeplot"
   ]
  },
  {
   "cell_type": "code",
   "execution_count": null,
   "id": "51ea912d",
   "metadata": {},
   "outputs": [],
   "source": [
    "import seaborn as sns\n",
    "import numpy as np\n",
    "import matplotlib.pyplot as plt\n",
    "\n",
    "# Suppress warnings to avoid noise\n",
    "import warnings\n",
    "warnings.filterwarnings(\"ignore\")"
   ]
  },
  {
   "cell_type": "markdown",
   "id": "0282f6bf",
   "metadata": {},
   "source": [
    "#### Data\n",
    "Seaborn comes with built-in data sets!"
   ]
  },
  {
   "cell_type": "code",
   "execution_count": null,
   "id": "0fc61520",
   "metadata": {},
   "outputs": [],
   "source": [
    "tips = sns.load_dataset('tips')"
   ]
  },
  {
   "cell_type": "code",
   "execution_count": null,
   "id": "ed52cb39",
   "metadata": {},
   "outputs": [],
   "source": [
    "tips.head()"
   ]
  },
  {
   "cell_type": "markdown",
   "id": "08fa6fcd",
   "metadata": {},
   "source": [
    "#### distplot\n",
    "\n",
    "The distplot shows the distribution of a univariate set of observations."
   ]
  },
  {
   "cell_type": "code",
   "execution_count": null,
   "id": "cb40e06f",
   "metadata": {},
   "outputs": [],
   "source": [
    "sns.distplot(tips['total_bill'])"
   ]
  },
  {
   "cell_type": "markdown",
   "id": "3196a997",
   "metadata": {},
   "source": [
    "To remove the kde layer and just have the histogram use:"
   ]
  },
  {
   "cell_type": "code",
   "execution_count": null,
   "id": "dc774165",
   "metadata": {},
   "outputs": [],
   "source": [
    "sns.distplot(tips['total_bill'],kde=False,bins=30) # remove the kernel distribution"
   ]
  },
  {
   "cell_type": "markdown",
   "id": "16180ac7",
   "metadata": {},
   "source": [
    "#### jointplot\n",
    "\n",
    "jointplot() allows you to basically match up two distplots for bivariate data. With your choice of what **kind** parameter to compare with: \n",
    "* “scatter” \n",
    "* “reg” \n",
    "* “resid” \n",
    "* “kde” \n",
    "* “hex”"
   ]
  },
  {
   "cell_type": "code",
   "execution_count": null,
   "id": "95489634",
   "metadata": {},
   "outputs": [],
   "source": [
    "sns.jointplot(x='total_bill',y='tip',data=tips,kind='scatter')"
   ]
  },
  {
   "cell_type": "markdown",
   "id": "a4e3b259",
   "metadata": {},
   "source": [
    "Kind allows you to specify the type of plot to visualize the relationship between two variables.\n",
    "* Scatter: Creates a scatter plot of the two variables and each point represents an observation.\n",
    "* Reg: Creates a scatter plot with an added regression line. The regression line shows the linear relationship between the two variables. A confidence interval for the regression line is typically included.\n",
    "* Resid: Creates a residual plot that shows the residuals of a linear regression, which are the differences between observed and predicted values.\n",
    "* Kde: Creates a Kernel Density Estimate (KDE) plot, that shows the joint distribution of the two variables using a smoothed, continuous estimate.\n",
    "* Hex: Creates a hexbin plot. This plot shows the relationship between two variables by binning data points into hexagonal bins."
   ]
  },
  {
   "cell_type": "code",
   "execution_count": null,
   "id": "40e773a5",
   "metadata": {},
   "outputs": [],
   "source": [
    "sns.jointplot(x='total_bill',y='tip',data=tips,kind='resid')"
   ]
  },
  {
   "cell_type": "code",
   "execution_count": null,
   "id": "db94407d",
   "metadata": {},
   "outputs": [],
   "source": [
    "sns.jointplot(x='total_bill',y='tip',data=tips,kind='reg')"
   ]
  },
  {
   "cell_type": "code",
   "execution_count": null,
   "id": "a51689f6",
   "metadata": {},
   "outputs": [],
   "source": [
    "sns.jointplot(x='total_bill',y='tip',data=tips,kind='kde')"
   ]
  },
  {
   "cell_type": "markdown",
   "id": "74ccf616",
   "metadata": {},
   "source": [
    "#### pairplot\n",
    "\n",
    "pairplot will plot pairwise relationships across an entire dataframe (for the numerical columns) and supports a color hue argument (for categorical columns). "
   ]
  },
  {
   "cell_type": "code",
   "execution_count": null,
   "id": "8a57ec20",
   "metadata": {},
   "outputs": [],
   "source": [
    "sns.pairplot(tips)"
   ]
  },
  {
   "cell_type": "code",
   "execution_count": null,
   "id": "4093a8b3",
   "metadata": {},
   "outputs": [],
   "source": [
    "sns.pairplot(tips,hue='sex',palette='coolwarm')"
   ]
  },
  {
   "cell_type": "markdown",
   "id": "f631d73d",
   "metadata": {},
   "source": [
    "#### rugplot\n",
    "\n",
    "rugplots are actually a very simple concept, they just draw a dash mark for every point on a univariate distribution. They are the building block of a KDE plot:"
   ]
  },
  {
   "cell_type": "code",
   "execution_count": null,
   "id": "a0e2592c",
   "metadata": {},
   "outputs": [],
   "source": [
    "sns.rugplot(tips['total_bill'])"
   ]
  },
  {
   "cell_type": "markdown",
   "id": "5cde2222",
   "metadata": {},
   "source": [
    "#### kdeplot\n",
    "\n",
    "kdeplots are [Kernel Density Estimation plots](http://en.wikipedia.org/wiki/Kernel_density_estimation#Practical_estimation_of_the_bandwidth). These KDE plots replace every single observation with a Gaussian (Normal) distribution centered around that value. For example:"
   ]
  },
  {
   "cell_type": "code",
   "execution_count": null,
   "id": "9033fa9d",
   "metadata": {},
   "outputs": [],
   "source": [
    "sns.kdeplot(tips['total_bill'])"
   ]
  },
  {
   "cell_type": "code",
   "execution_count": null,
   "id": "7dc2c0a7",
   "metadata": {},
   "outputs": [],
   "source": [
    "sns.kdeplot(tips['total_bill'])\n",
    "sns.rugplot(tips['total_bill'])"
   ]
  },
  {
   "cell_type": "code",
   "execution_count": null,
   "id": "5f345db8",
   "metadata": {},
   "outputs": [],
   "source": [
    "sns.kdeplot(tips['tip'])\n",
    "sns.rugplot(tips['tip'])"
   ]
  },
  {
   "cell_type": "markdown",
   "id": "eba804c1",
   "metadata": {},
   "source": [
    "## Categorical Data Plots\n",
    "\n",
    "Now let's discuss using seaborn to plot categorical data! There are a few main plot types for this:\n",
    "\n",
    "* factorplot\n",
    "* boxplot\n",
    "* violinplot\n",
    "* stripplot\n",
    "* swarmplot\n",
    "* barplot\n",
    "* countplot\n",
    "\n",
    "Let's go through examples of each!"
   ]
  },
  {
   "cell_type": "markdown",
   "id": "be18cf4b",
   "metadata": {},
   "source": [
    "### barplot and countplot\n",
    "\n",
    "These very similar plots allow you to get aggregate data off a categorical feature in your data. **barplot** is a general plot that allows you to aggregate the categorical data based off some function, by default the mean:"
   ]
  },
  {
   "cell_type": "code",
   "execution_count": null,
   "id": "3035bdca",
   "metadata": {},
   "outputs": [],
   "source": [
    "sns.barplot(x='sex',y='total_bill',data=tips, palette='pastel')"
   ]
  },
  {
   "cell_type": "markdown",
   "id": "c8a9a9c6",
   "metadata": {},
   "source": [
    "You can change the estimator object to your own function, that converts a vector to a scalar:"
   ]
  },
  {
   "cell_type": "code",
   "execution_count": null,
   "id": "999f50fa",
   "metadata": {},
   "outputs": [],
   "source": [
    "tips['total_bill'].describe()"
   ]
  },
  {
   "cell_type": "code",
   "execution_count": null,
   "id": "ff315026",
   "metadata": {},
   "outputs": [],
   "source": [
    "sns.barplot(x='sex',y='total_bill',data=tips,estimator=np.std, palette='pastel')"
   ]
  },
  {
   "cell_type": "markdown",
   "id": "f79a6f02",
   "metadata": {},
   "source": [
    "#### countplot\n",
    "\n",
    "This is essentially the same as barplot except the estimator is explicitly counting the number of occurrences. Which is why we only pass the x value:"
   ]
  },
  {
   "cell_type": "code",
   "execution_count": null,
   "id": "9948e682",
   "metadata": {},
   "outputs": [],
   "source": [
    "sns.countplot(x='sex',data=tips, palette='pastel')"
   ]
  },
  {
   "cell_type": "markdown",
   "id": "41ae76d6",
   "metadata": {},
   "source": [
    "### boxplot and violinplot\n",
    "\n",
    "boxplots and violinplots are used to shown the distribution of categorical data. A box plot (or box-and-whisker plot) shows the distribution of quantitative data in a way that facilitates comparisons between variables or across levels of a categorical variable. The box shows the quartiles of the dataset while the whiskers extend to show the rest of the distribution, except for points that are determined to be “outliers” using a method that is a function of the inter-quartile range."
   ]
  },
  {
   "cell_type": "code",
   "execution_count": null,
   "id": "15293631",
   "metadata": {},
   "outputs": [],
   "source": [
    "sns.boxplot(x=\"day\", y=\"total_bill\", data=tips, palette='Set1')"
   ]
  },
  {
   "cell_type": "code",
   "execution_count": null,
   "id": "9a9171c5",
   "metadata": {},
   "outputs": [],
   "source": [
    "# Can do entire dataframe with horizontal orientation\n",
    "sns.boxplot(data=tips,palette='rainbow',orient='v')"
   ]
  },
  {
   "cell_type": "code",
   "execution_count": null,
   "id": "fdb19a6c",
   "metadata": {},
   "outputs": [],
   "source": [
    "# plt.figure(figsize=(15, 12))\n",
    "sns.boxplot(x=\"day\", y=\"total_bill\", hue=\"smoker\",data=tips, palette=\"coolwarm\")"
   ]
  },
  {
   "cell_type": "markdown",
   "id": "de9a2996",
   "metadata": {},
   "source": [
    "#### violinplot\n",
    "A violin plot plays a similar role as a box and whisker plot. It shows the distribution of quantitative data across several levels of one (or more) categorical variables such that those distributions can be compared. Unlike a box plot, in which all of the plot components correspond to actual datapoints, the violin plot features a kernel density estimation of the underlying distribution."
   ]
  },
  {
   "cell_type": "code",
   "execution_count": null,
   "id": "469a5346",
   "metadata": {},
   "outputs": [],
   "source": [
    "sns.violinplot(x=\"day\", y=\"total_bill\", data=tips,palette='rainbow')"
   ]
  },
  {
   "cell_type": "code",
   "execution_count": null,
   "id": "4e9d0391",
   "metadata": {},
   "outputs": [],
   "source": [
    "plt.figure(figsize=(15, 12))\n",
    "sns.violinplot(x=\"day\", y=\"total_bill\", data=tips,hue='sex')"
   ]
  },
  {
   "cell_type": "code",
   "execution_count": null,
   "id": "bf9fc7f5",
   "metadata": {},
   "outputs": [],
   "source": [
    "plt.figure(figsize=(15, 12))\n",
    "sns.violinplot(x=\"day\", y=\"total_bill\", data=tips,hue='sex',split=True)"
   ]
  },
  {
   "cell_type": "markdown",
   "id": "608b6c4f",
   "metadata": {},
   "source": [
    "### stripplot and swarmplot\n",
    "The stripplot will draw a scatterplot where one variable is categorical. A strip plot can be drawn on its own, but it is also a good complement to a box or violin plot in cases where you want to show all observations along with some representation of the underlying distribution.\n",
    "\n",
    "The swarmplot is similar to stripplot(), but the points are adjusted (only along the categorical axis) so that they don’t overlap. This gives a better representation of the distribution of values, although it does not scale as well to large numbers of observations (both in terms of the ability to show all the points and in terms of the computation needed to arrange them)."
   ]
  },
  {
   "cell_type": "code",
   "execution_count": null,
   "id": "c094b980",
   "metadata": {},
   "outputs": [],
   "source": [
    "sns.stripplot(x=\"day\", y=\"total_bill\", data=tips)"
   ]
  },
  {
   "cell_type": "code",
   "execution_count": null,
   "id": "6a7eee79",
   "metadata": {},
   "outputs": [],
   "source": [
    "plt.figure(figsize=(12, 8))\n",
    "sns.stripplot(x=\"day\", y=\"total_bill\", data=tips,hue='sex')\n",
    "plt.legend(title='Stripplot by gender', title_fontsize='13', fontsize='10', loc='upper left')"
   ]
  },
  {
   "cell_type": "code",
   "execution_count": null,
   "id": "4520dfd8",
   "metadata": {},
   "outputs": [],
   "source": [
    "sns.stripplot(x=\"day\", y=\"total_bill\", data=tips, hue='sex', dodge=True)\n",
    "plt.legend().remove()"
   ]
  },
  {
   "cell_type": "code",
   "execution_count": null,
   "id": "69bf5833",
   "metadata": {},
   "outputs": [],
   "source": [
    "sns.swarmplot(x=\"day\", y=\"total_bill\", data=tips)"
   ]
  },
  {
   "cell_type": "code",
   "execution_count": null,
   "id": "bab75462",
   "metadata": {},
   "outputs": [],
   "source": [
    "# plt.figure(figsize=(12, 8))\n",
    "sns.swarmplot(x=\"day\", y=\"total_bill\",hue='sex',data=tips, dodge=True)\n",
    "plt.legend(title='Swarmplot by gender', title_fontsize='8', fontsize='6', loc='upper left')"
   ]
  },
  {
   "cell_type": "markdown",
   "id": "b377411a",
   "metadata": {},
   "source": [
    "#### Combining Categorical Plots"
   ]
  },
  {
   "cell_type": "code",
   "execution_count": null,
   "id": "9102c235",
   "metadata": {},
   "outputs": [],
   "source": [
    "sns.violinplot(x=\"tip\", y=\"day\", data=tips,palette='rainbow')\n",
    "sns.swarmplot(x=\"tip\", y=\"day\", data=tips,color='black',size=3)"
   ]
  },
  {
   "cell_type": "markdown",
   "id": "d66249d8",
   "metadata": {},
   "source": [
    "### Catplot\n",
    "\n",
    "Catplot and factorplot are the most general forms of a categorical plot. They can take in a **kind** parameter to adjust the plot type:"
   ]
  },
  {
   "cell_type": "code",
   "execution_count": null,
   "id": "09fcc354",
   "metadata": {},
   "outputs": [],
   "source": [
    "sns.catplot(x='day',y='total_bill',data=tips,kind='boxen',palette='rainbow') # kind options: box, point, bar, violin, strip, swarm, boxen"
   ]
  },
  {
   "cell_type": "markdown",
   "id": "fc77a48a",
   "metadata": {},
   "source": [
    "## Matrix Plots\n",
    "\n",
    "Matrix plots allow you to plot data as color-encoded matrices and can also be used to indicate clusters within the data (later in the machine learning section we will learn how to formally cluster data).\n",
    "\n",
    "Let's begin by exploring seaborn's heatmap and clutermap:"
   ]
  },
  {
   "cell_type": "code",
   "execution_count": null,
   "id": "d37fe5dc",
   "metadata": {},
   "outputs": [],
   "source": [
    "flights = sns.load_dataset('flights')"
   ]
  },
  {
   "cell_type": "code",
   "execution_count": null,
   "id": "89e72a2b",
   "metadata": {},
   "outputs": [],
   "source": [
    "tips = sns.load_dataset('tips')"
   ]
  },
  {
   "cell_type": "code",
   "execution_count": null,
   "id": "fe5f6dba",
   "metadata": {},
   "outputs": [],
   "source": [
    "flights.head()"
   ]
  },
  {
   "cell_type": "code",
   "execution_count": null,
   "id": "f68b848a-2241-4fed-b47f-7bec3340ffbe",
   "metadata": {},
   "outputs": [],
   "source": [
    "tips.head()"
   ]
  },
  {
   "cell_type": "markdown",
   "id": "2e9c7fdf",
   "metadata": {},
   "source": [
    "### Heatmap\n",
    "\n",
    "In order for a heatmap to work properly, your data should already be in a matrix form, the sns.heatmap function basically just colors it in for you. For example:"
   ]
  },
  {
   "cell_type": "code",
   "execution_count": null,
   "id": "0dd1b313-597e-4e0b-9caa-f6973502ee85",
   "metadata": {},
   "outputs": [],
   "source": [
    "# Select only numeric columns for correlation calculation\n",
    "numeric_tips = tips.select_dtypes(include=['number'])\n",
    "\n",
    "# Calculate the correlation matrix\n",
    "numeric_tips.corr()"
   ]
  },
  {
   "cell_type": "code",
   "execution_count": null,
   "id": "6fb1acb2-7c0f-40fc-a332-403556fdc6f5",
   "metadata": {},
   "outputs": [],
   "source": [
    "# Visualize the correlation matrix using a heatmap\n",
    "sns.heatmap(numeric_tips.corr())"
   ]
  },
  {
   "cell_type": "code",
   "execution_count": null,
   "id": "a32f4818-e9c3-4161-ba87-d0135a48e6bb",
   "metadata": {},
   "outputs": [],
   "source": [
    "sns.heatmap(numeric_tips.corr(), annot=True, cmap='coolwarm',vmin=-1, vmax=1)"
   ]
  },
  {
   "cell_type": "markdown",
   "id": "fb095a71",
   "metadata": {},
   "source": [
    "Or for the flights data:"
   ]
  },
  {
   "cell_type": "code",
   "execution_count": null,
   "id": "98d68ef2",
   "metadata": {},
   "outputs": [],
   "source": [
    "flights.pivot_table(values='passengers',index='month',columns='year')"
   ]
  },
  {
   "cell_type": "code",
   "execution_count": null,
   "id": "f7983e7e",
   "metadata": {},
   "outputs": [],
   "source": [
    "pvflights = flights.pivot_table(values='passengers',index='month',columns='year')\n",
    "sns.heatmap(pvflights)"
   ]
  },
  {
   "cell_type": "code",
   "execution_count": null,
   "id": "c3cdf4bf",
   "metadata": {},
   "outputs": [],
   "source": [
    "sns.heatmap(pvflights,cmap='magma',linecolor='white',linewidths=1)"
   ]
  },
  {
   "cell_type": "code",
   "execution_count": null,
   "id": "2485810b",
   "metadata": {},
   "outputs": [],
   "source": [
    "sns.heatmap(pvflights,cmap='magma_r',linecolor='white',linewidths=1)"
   ]
  },
  {
   "cell_type": "markdown",
   "id": "25e4e96d",
   "metadata": {},
   "source": [
    "### clustermap\n",
    "\n",
    "The clustermap uses hierarchal clustering to produce a clustered version of the heatmap. For example:"
   ]
  },
  {
   "cell_type": "code",
   "execution_count": null,
   "id": "2d747383",
   "metadata": {},
   "outputs": [],
   "source": [
    "sns.clustermap(pvflights,cmap='magma_r')"
   ]
  },
  {
   "cell_type": "markdown",
   "id": "8bcc5f7f",
   "metadata": {},
   "source": [
    "Notice now how the years and months are no longer in order, instead they are grouped by similarity in value (passenger count). That means we can begin to infer things from this plot, such as August and July being similar (makes sense, since they are both summer travel months)"
   ]
  },
  {
   "cell_type": "code",
   "execution_count": null,
   "id": "f2c371fb",
   "metadata": {},
   "outputs": [],
   "source": [
    "# More options to get the information a little clearer like normalization\n",
    "sns.clustermap(pvflights,cmap='coolwarm')"
   ]
  },
  {
   "cell_type": "markdown",
   "id": "5d49bd54",
   "metadata": {},
   "source": [
    "## Grids\n",
    "\n",
    "Grids are general types of plots that allow you to map plot types to rows and columns of a grid, this helps you create similar plots separated by features."
   ]
  },
  {
   "cell_type": "code",
   "execution_count": null,
   "id": "4117148c",
   "metadata": {},
   "outputs": [],
   "source": [
    "iris = sns.load_dataset('iris')"
   ]
  },
  {
   "cell_type": "code",
   "execution_count": null,
   "id": "3678d572",
   "metadata": {},
   "outputs": [],
   "source": [
    "iris.head()"
   ]
  },
  {
   "cell_type": "code",
   "execution_count": null,
   "id": "c35a3941",
   "metadata": {},
   "outputs": [],
   "source": [
    "iris['species'].unique()"
   ]
  },
  {
   "cell_type": "markdown",
   "id": "01c1cf0f",
   "metadata": {},
   "source": [
    "### PairGrid\n",
    "\n",
    "Pairgrid is a subplot grid for plotting pairwise relationships in a dataset."
   ]
  },
  {
   "cell_type": "code",
   "execution_count": null,
   "id": "866f6604",
   "metadata": {},
   "outputs": [],
   "source": [
    "sns.pairplot(iris)"
   ]
  },
  {
   "cell_type": "code",
   "execution_count": null,
   "id": "47627008",
   "metadata": {},
   "outputs": [],
   "source": [
    "# Just the Grid\n",
    "sns.PairGrid(iris)"
   ]
  },
  {
   "cell_type": "code",
   "execution_count": null,
   "id": "6c6ce957",
   "metadata": {},
   "outputs": [],
   "source": [
    "# Then you map to the grid\n",
    "g = sns.PairGrid(iris)\n",
    "g.map(plt.scatter)"
   ]
  },
  {
   "cell_type": "code",
   "execution_count": null,
   "id": "46502198",
   "metadata": {},
   "outputs": [],
   "source": [
    "# Map to upper,lower, and diagonal\n",
    "g = sns.PairGrid(iris)\n",
    "g.map_diag(plt.hist)\n",
    "g.map_upper(plt.scatter)\n",
    "g.map_lower(sns.kdeplot)"
   ]
  },
  {
   "cell_type": "markdown",
   "id": "68e09a20",
   "metadata": {},
   "source": [
    "### pairplot\n",
    "\n",
    "pairplot is a simpler version of PairGrid (you'll use quite often)"
   ]
  },
  {
   "cell_type": "code",
   "execution_count": null,
   "id": "b6e17c88",
   "metadata": {},
   "outputs": [],
   "source": [
    "sns.pairplot(iris)"
   ]
  },
  {
   "cell_type": "code",
   "execution_count": null,
   "id": "c38ff398",
   "metadata": {},
   "outputs": [],
   "source": [
    "sns.pairplot(iris,hue='species',palette='rainbow')"
   ]
  },
  {
   "cell_type": "markdown",
   "id": "24825145",
   "metadata": {},
   "source": [
    "### Facet Grid\n",
    "\n",
    "FacetGrid is the general way to create grids of plots based off of a feature:"
   ]
  },
  {
   "cell_type": "code",
   "execution_count": null,
   "id": "d8255d35",
   "metadata": {},
   "outputs": [],
   "source": [
    "# Just the Grid\n",
    "g = sns.FacetGrid(tips, col=\"time\", row=\"smoker\")"
   ]
  },
  {
   "cell_type": "code",
   "execution_count": null,
   "id": "27693cc1",
   "metadata": {},
   "outputs": [],
   "source": [
    "g = sns.FacetGrid(tips, col=\"time\",  row=\"smoker\")\n",
    "g = g.map(sns.distplot, 'total_bill')"
   ]
  },
  {
   "cell_type": "code",
   "execution_count": null,
   "id": "33a0ffd0",
   "metadata": {},
   "outputs": [],
   "source": [
    "g = sns.FacetGrid(tips, col=\"time\",  row=\"smoker\")\n",
    "g.map(plt.hist, \"total_bill\")"
   ]
  },
  {
   "cell_type": "code",
   "execution_count": null,
   "id": "7963dddd",
   "metadata": {},
   "outputs": [],
   "source": [
    "g = sns.FacetGrid(tips, col=\"time\",  row=\"smoker\", hue='sex')\n",
    "g = g.map(plt.scatter, \"total_bill\", \"tip\").add_legend() # notice how the arguments come after plt.scatter call"
   ]
  },
  {
   "cell_type": "markdown",
   "id": "b433d5f2",
   "metadata": {},
   "source": [
    "### JointGrid\n",
    "\n",
    "JointGrid is the general version for jointplot() type grids, for a quick example:"
   ]
  },
  {
   "cell_type": "code",
   "execution_count": null,
   "id": "2f594cc7",
   "metadata": {},
   "outputs": [],
   "source": [
    "g = sns.JointGrid(x=\"total_bill\", y=\"tip\", data=tips)\n",
    "g = g.plot(sns.regplot, sns.distplot)"
   ]
  },
  {
   "cell_type": "markdown",
   "id": "4b13e4e9",
   "metadata": {},
   "source": [
    "Reference Seaborn documentation as necessary for grid types, but most of the time you'll just use the easier plots discussed earlier."
   ]
  },
  {
   "cell_type": "markdown",
   "id": "9f92db7f",
   "metadata": {},
   "source": [
    "## Regression Plots\n",
    "\n",
    "Seaborn has many built-in capabilities for regression plots, however we won't really discuss regression until the machine learning section of the course, so we will only cover the **lmplot()** function for now.\n",
    "\n",
    "**lmplot** allows you to display linear models, but it also conveniently allows you to split up those plots based off of features, as well as coloring the hue based off of features.\n",
    "\n",
    "Let's explore how this works:"
   ]
  },
  {
   "cell_type": "markdown",
   "id": "d1925033",
   "metadata": {},
   "source": [
    "#### lmplot()"
   ]
  },
  {
   "cell_type": "code",
   "execution_count": null,
   "id": "3f0ff432",
   "metadata": {},
   "outputs": [],
   "source": [
    "sns.lmplot(x='total_bill',y='tip',data=tips)"
   ]
  },
  {
   "cell_type": "code",
   "execution_count": null,
   "id": "93094327",
   "metadata": {},
   "outputs": [],
   "source": [
    "sns.lmplot(x='total_bill',y='tip',data=tips,hue='sex')"
   ]
  },
  {
   "cell_type": "markdown",
   "id": "c46b9616",
   "metadata": {},
   "source": [
    "#### Working with Markers\n",
    "\n",
    "lmplot kwargs get passed through to **regplot** which is a more general form of lmplot(). regplot has a scatter_kws parameter that gets passed to plt.scatter. So you want to set the s parameter in that dictionary, which corresponds (a bit confusingly) to the squared markersize. In other words you end up passing a dictionary with the base matplotlib arguments, in this case, s for size of a scatter plot. In general, you probably won't remember this off the top of your head, but instead reference the documentation."
   ]
  },
  {
   "cell_type": "code",
   "execution_count": null,
   "id": "f3577405",
   "metadata": {},
   "outputs": [],
   "source": [
    "# http://matplotlib.org/api/markers_api.html\n",
    "sns.lmplot(x='total_bill',y='tip',data=tips,hue='sex',palette='coolwarm',\n",
    "           markers=['o','v'])"
   ]
  },
  {
   "cell_type": "markdown",
   "id": "cb4a6b34",
   "metadata": {},
   "source": [
    "Seaborn and Matplotlib support a variety of markers, such as:\n",
    "* 'o' for circles\n",
    "* 'v' for triangles\n",
    "* 's' for squares\n",
    "* 'p' for pentagons\n",
    "* '*' for stars\n",
    "* 'D' for diamonds\n",
    "* '+' for plus signs\n",
    "* 'x' for cross signs"
   ]
  },
  {
   "cell_type": "markdown",
   "id": "770c8b27",
   "metadata": {},
   "source": [
    "### Using a Grid\n",
    "\n",
    "We can add more variable separation through columns and rows with the use of a grid. Just indicate this with the col or row arguments:"
   ]
  },
  {
   "cell_type": "code",
   "execution_count": null,
   "id": "5504b8c6",
   "metadata": {},
   "outputs": [],
   "source": [
    "sns.lmplot(x='total_bill',y='tip',data=tips,col='sex')"
   ]
  },
  {
   "cell_type": "code",
   "execution_count": null,
   "id": "358c1215",
   "metadata": {},
   "outputs": [],
   "source": [
    "sns.lmplot(x=\"total_bill\", y=\"tip\", row=\"sex\", col=\"time\",data=tips)"
   ]
  },
  {
   "cell_type": "code",
   "execution_count": null,
   "id": "60fdc3d6",
   "metadata": {},
   "outputs": [],
   "source": [
    "sns.lmplot(x='total_bill',y='tip',data=tips,col='day',hue='sex',palette='coolwarm')"
   ]
  },
  {
   "cell_type": "markdown",
   "id": "6074c6c0",
   "metadata": {},
   "source": [
    "### Aspect and Height\n",
    "\n",
    "Seaborn figures can have their size and aspect ratio adjusted with the **height** and **aspect** parameters:"
   ]
  },
  {
   "cell_type": "code",
   "execution_count": null,
   "id": "3c431bcd",
   "metadata": {},
   "outputs": [],
   "source": [
    "sns.lmplot(x='total_bill', y='tip', data=tips, col='day', hue='sex', palette='coolwarm', aspect=0.6, height=8)"
   ]
  },
  {
   "cell_type": "markdown",
   "id": "04c68b99",
   "metadata": {},
   "source": [
    "You're probably wondering how to change the font size or control the aesthetics even more, check out the Style and Color Lecture and Notebook for more info on that!"
   ]
  },
  {
   "cell_type": "markdown",
   "id": "07579eed",
   "metadata": {},
   "source": [
    "## Style and Color\n",
    "\n",
    "We've shown a few times how to control figure aesthetics in seaborn, but let's now go over it formally:"
   ]
  },
  {
   "cell_type": "code",
   "execution_count": null,
   "id": "2e0ac0e1",
   "metadata": {},
   "outputs": [],
   "source": [
    "sns.set_style('white') # darkgrid, whitegrid, dark, white, ticks\n",
    "sns.countplot(x='sex', data=tips, palette='deep')"
   ]
  },
  {
   "cell_type": "code",
   "execution_count": null,
   "id": "40c3d5be",
   "metadata": {},
   "outputs": [],
   "source": [
    "sns.set_style('ticks')\n",
    "sns.countplot(x='sex',data=tips,palette='deep')"
   ]
  },
  {
   "cell_type": "markdown",
   "id": "425c9973",
   "metadata": {},
   "source": [
    "### Spine Removal"
   ]
  },
  {
   "cell_type": "code",
   "execution_count": null,
   "id": "61955249",
   "metadata": {},
   "outputs": [],
   "source": [
    "sns.countplot(x='sex',data=tips,palette='deep')\n",
    "sns.despine()"
   ]
  },
  {
   "cell_type": "code",
   "execution_count": null,
   "id": "599c2971",
   "metadata": {},
   "outputs": [],
   "source": [
    "sns.countplot(x='sex',data=tips,palette='deep')\n",
    "sns.despine(left=True)"
   ]
  },
  {
   "cell_type": "markdown",
   "id": "c513df93",
   "metadata": {},
   "source": [
    "### Size and Aspect\n",
    "You can use matplotlib's **plt.figure(figsize=(width,height) ** to change the size of most seaborn plots.\n",
    "\n",
    "You can control the size and aspect ratio of most seaborn grid plots by passing in parameters: size, and aspect. For example:"
   ]
  },
  {
   "cell_type": "code",
   "execution_count": null,
   "id": "d921eb31",
   "metadata": {},
   "outputs": [],
   "source": [
    "# Non Grid Plot\n",
    "plt.figure(figsize=(12,3))\n",
    "sns.countplot(x='sex', data=tips, palette='deep')"
   ]
  },
  {
   "cell_type": "code",
   "execution_count": null,
   "id": "cd9d89fa",
   "metadata": {},
   "outputs": [],
   "source": [
    "# Grid Type Plot\n",
    "sns.lmplot(x='total_bill',y='tip',height=6,aspect=2,data=tips)"
   ]
  },
  {
   "cell_type": "markdown",
   "id": "84825879",
   "metadata": {},
   "source": [
    "#### Context\n",
    "\n",
    "The set_context() allows you to override default parameters:"
   ]
  },
  {
   "cell_type": "code",
   "execution_count": null,
   "id": "b747a105",
   "metadata": {},
   "outputs": [],
   "source": [
    "sns.set_context('notebook',font_scale=1) # paper, notebook, talk, poster\n",
    "sns.countplot(x='sex',data=tips,palette='coolwarm')"
   ]
  },
  {
   "cell_type": "markdown",
   "id": "38a1bbeb",
   "metadata": {},
   "source": [
    "Check out the documentation page for more info on these topics:\n",
    "https://stanford.edu/~mwaskom/software/seaborn/tutorial/aesthetics.html"
   ]
  }
 ],
 "metadata": {
  "kernelspec": {
   "display_name": "Python 3 (ipykernel)",
   "language": "python",
   "name": "python3"
  },
  "language_info": {
   "codemirror_mode": {
    "name": "ipython",
    "version": 3
   },
   "file_extension": ".py",
   "mimetype": "text/x-python",
   "name": "python",
   "nbconvert_exporter": "python",
   "pygments_lexer": "ipython3",
   "version": "3.12.4"
  }
 },
 "nbformat": 4,
 "nbformat_minor": 5
}
